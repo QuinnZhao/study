{
 "cells": [
  {
   "cell_type": "code",
   "execution_count": 2,
   "metadata": {},
   "outputs": [
    {
     "data": {
      "text/plain": [
       "\"\\nclass DDETopic(object.Object):\\n    def __init__(self, topicName):\\n        self.topic = dde.CreateTopic(topicName)\\n        object.Object.__init__(self, self.topic)\\n        self.items = {}\\n\\n    def setData(self, itemName, value):\\n        try:\\n            self.items[itemName].SetData( str(value) )\\n        except KeyError:\\n            if itemName not in self.items:\\n                self.items[itemName] = dde.CreateStringItem(itemName)\\n                self.topic.AddItem( self.items[itemName] )\\n                self.items[itemName].SetData( str(value) )\\n\\n\\nddeServer = dde.CreateServer()\\nddeServer.Create('mydde')\\nddeTopic = DDETopic('test')\\nddeServer.AddTopic(ddeTopic)\\n\\nwhile True:\\n    d = time.ctime() + ' UP0 DN145000001 UMusb DMfm AZ040 EL005 SNNO SATELLITE'\\n    print(d)\\n    ddeTopic.setData('try', d)\\n    win32ui.PumpWaitingMessages(0, -1)\\n    time.sleep(0.1)\\n\""
      ]
     },
     "execution_count": 2,
     "metadata": {},
     "output_type": "execute_result"
    }
   ],
   "source": [
    "import time\n",
    "import win32ui, dde\n",
    "from pywin.mfc import object\n",
    "\n",
    "'''\n",
    "class DDETopic(object.Object):\n",
    "    def __init__(self, topicName):\n",
    "        self.topic = dde.CreateTopic(topicName)\n",
    "        object.Object.__init__(self, self.topic)\n",
    "        self.items = {}\n",
    "\n",
    "    def setData(self, itemName, value):\n",
    "        try:\n",
    "            self.items[itemName].SetData( str(value) )\n",
    "        except KeyError:\n",
    "            if itemName not in self.items:\n",
    "                self.items[itemName] = dde.CreateStringItem(itemName)\n",
    "                self.topic.AddItem( self.items[itemName] )\n",
    "                self.items[itemName].SetData( str(value) )\n",
    "\n",
    "\n",
    "ddeServer = dde.CreateServer()\n",
    "ddeServer.Create('mydde')\n",
    "ddeTopic = DDETopic('test')\n",
    "ddeServer.AddTopic(ddeTopic)\n",
    "\n",
    "while True:\n",
    "    d = time.ctime() + ' UP0 DN145000001 UMusb DMfm AZ040 EL005 SNNO SATELLITE'\n",
    "    print(d)\n",
    "    ddeTopic.setData('try', d)\n",
    "    win32ui.PumpWaitingMessages(0, -1)\n",
    "    time.sleep(0.1)\n",
    "'''"
   ]
  },
  {
   "cell_type": "code",
   "execution_count": 1,
   "metadata": {},
   "outputs": [],
   "source": [
    "import time\n",
    "import win32ui, dde\n",
    "from pywin.mfc import object\n",
    "class DDETopic(object.Object):\n",
    "    def __init__(self, topicName):\n",
    "        self.topic = dde.CreateTopic(topicName)\n",
    "        object.Object.__init__(self, self.topic)\n",
    "        self.items = {}\n",
    "\n",
    "    def Request(self, itemName):\n",
    "        return 11\n",
    "\n",
    "ddeServer = dde.CreateServer()\n",
    "\n",
    "ddeTopic = DDETopic('test')\n",
    "ddeServer.AddTopic(ddeTopic)\n",
    "ddeServer.Create('mydde')\n",
    "#d = {'try': 1} \n",
    "#ddeTopic.AddItem(dde.CreateStringItem('try'))\n",
    "#print(ddeServer)\n"
   ]
  },
  {
   "cell_type": "code",
   "execution_count": null,
   "metadata": {},
   "outputs": [],
   "source": []
  },
  {
   "cell_type": "code",
   "execution_count": null,
   "metadata": {},
   "outputs": [],
   "source": []
  }
 ],
 "metadata": {
  "kernelspec": {
   "display_name": "Python 3",
   "language": "python",
   "name": "python3"
  },
  "language_info": {
   "codemirror_mode": {
    "name": "ipython",
    "version": 3
   },
   "file_extension": ".py",
   "mimetype": "text/x-python",
   "name": "python",
   "nbconvert_exporter": "python",
   "pygments_lexer": "ipython3",
   "version": "3.6.3"
  }
 },
 "nbformat": 4,
 "nbformat_minor": 2
}
