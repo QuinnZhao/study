{
 "cells": [
  {
   "cell_type": "markdown",
   "metadata": {},
   "source": [
    "# 摘要\n",
    "   本文介绍Python 自带的GUI库Tkinter的控件以及其用法，包含tkinter中的控件以及ttk的控件，并且用面向对象方法详细介绍控件的使用方法。参考文献：《Tkinter 8.5 Reference：GUI for Python》。该文档是针对Python 2.7而写，鉴于目前的Python普遍向3.x进行演进，本文将基于Python 3.x进行介绍。为了保证行文的简洁，本文所涉及的Python代码不兼容Python 2。"
   ]
  },
  {
   "cell_type": "markdown",
   "metadata": {},
   "source": [
    "## 1. Tkinter 最小程序（基于面向对象）"
   ]
  },
  {
   "cell_type": "code",
   "execution_count": 5,
   "metadata": {},
   "outputs": [],
   "source": [
    "import tkinter as tk                     # 导入tkinter模块到程序的命名空间中，并重命名为tk，该库为Python自带的GUI库，不需要安装\n",
    "\n",
    "class Application(tk.Frame):             # 定义Application类，继承tkinter的Frame控件类\n",
    "    \n",
    "    def __init__(self, master=None):     # 类构造函数，父类master默认为None \n",
    "        tk.Frame.__init__(self, master)  # 调用tkinter的Frame类构造函数进行初始化\n",
    "        self.master.title('Sample application')  # 设置应用程序窗口标题为“Sample application”\n",
    "        self.grid()                      # 必须调用的方法，使显示出来       \n",
    "        self._create_widgets()            # 调用该函数进行内部控件定义和布局，名字前面加“_”表示私有\n",
    "        self.mainloop()                   # 启动应用程序的主循环，等待鼠标和键盘事件\n",
    "    \n",
    "    def _create_widgets(self):\n",
    "        self.quit_button = tk.Button(self,        # self，按钮quit_button放置在本程序所定义的Frame上，self.quit_button.master=self\n",
    "                                    text='Quit',  # quit_button显示的文字为“Quit”\n",
    "                                    command=self.master.destroy  # 定义按钮quit_button按下时触发的回调函数为self.master.destory\n",
    "                                    )\n",
    "        self.quit_button.grid()  # 使quit_button可见\n",
    "\n",
    "if __name__ == '__main__':      # 当本脚本作为主程序独立运行时\n",
    "    Application()               # 实例化Application类\n"
   ]
  },
  {
   "cell_type": "code",
   "execution_count": null,
   "metadata": {},
   "outputs": [],
   "source": []
  },
  {
   "cell_type": "code",
   "execution_count": null,
   "metadata": {},
   "outputs": [],
   "source": []
  }
 ],
 "metadata": {
  "kernelspec": {
   "display_name": "Python 3",
   "language": "python",
   "name": "python3"
  },
  "language_info": {
   "codemirror_mode": {
    "name": "ipython",
    "version": 3
   },
   "file_extension": ".py",
   "mimetype": "text/x-python",
   "name": "python",
   "nbconvert_exporter": "python",
   "pygments_lexer": "ipython3",
   "version": "3.6.3"
  }
 },
 "nbformat": 4,
 "nbformat_minor": 2
}
