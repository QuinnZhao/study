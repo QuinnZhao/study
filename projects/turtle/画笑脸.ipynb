{
 "cells": [
  {
   "cell_type": "code",
   "execution_count": 1,
   "metadata": {},
   "outputs": [],
   "source": [
    "import turtle\n",
    "\n",
    "turtle.title('笑脸')\n",
    "\n",
    "turtle.up()\n",
    "turtle.goto(0, -100)\n",
    "turtle.down()\n",
    "\n",
    "# 画脸，填充黄色\n",
    "turtle.begin_fill()\n",
    "turtle.fillcolor('yellow')\n",
    "turtle.circle(100)\n",
    "turtle.end_fill()\n",
    "\n",
    "# 画嘴巴\n",
    "turtle.up()\n",
    "turtle.goto(-67, -40)\n",
    "turtle.setheading(-60)\n",
    "turtle.pensize(5)\n",
    "turtle.down()\n",
    "turtle.circle(80, 120)\n",
    "\n",
    "# 画两个眼睛\n",
    "turtle.fillcolor('black')\n",
    "for i in range(-35, 105, 70):\n",
    "    turtle.up()\n",
    "    turtle.goto(i, 35)\n",
    "    turtle.setheading(0)\n",
    "    turtle.down()\n",
    "    turtle.begin_fill()\n",
    "    turtle.circle(10)\n",
    "    turtle.end_fill()\n",
    "\n",
    "turtle.hideturtle()\n",
    "turtle.mainloop()"
   ]
  },
  {
   "cell_type": "code",
   "execution_count": null,
   "metadata": {},
   "outputs": [],
   "source": []
  }
 ],
 "metadata": {
  "kernelspec": {
   "display_name": "Python 3",
   "language": "python",
   "name": "python3"
  },
  "language_info": {
   "codemirror_mode": {
    "name": "ipython",
    "version": 3
   },
   "file_extension": ".py",
   "mimetype": "text/x-python",
   "name": "python",
   "nbconvert_exporter": "python",
   "pygments_lexer": "ipython3",
   "version": "3.6.3"
  }
 },
 "nbformat": 4,
 "nbformat_minor": 2
}
