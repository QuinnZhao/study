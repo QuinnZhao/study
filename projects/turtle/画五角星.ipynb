{
 "cells": [
  {
   "cell_type": "markdown",
   "metadata": {},
   "source": [
    "绘制五角星"
   ]
  },
  {
   "cell_type": "code",
   "execution_count": 46,
   "metadata": {},
   "outputs": [],
   "source": [
    "# 画紫色的五角星\n",
    "\n",
    "import turtle\n",
    "\n",
    "turtle.color(\"purple\")\n",
    "turtle.pensize(5)\n",
    "turtle.goto(0,0)\n",
    "turtle.speed('fast')\n",
    "for i in range(6):\n",
    "    turtle.forward(100)\n",
    "    turtle.right(144)\n",
    "turtle.up()\n",
    "turtle.goto(-150,-120)\n",
    "turtle.color(\"red\")\n",
    "turtle.write(\"Done\")\n",
    "\n",
    "turtle.mainloop()"
   ]
  }
 ],
 "metadata": {
  "kernelspec": {
   "display_name": "Python 3",
   "language": "python",
   "name": "python3"
  },
  "language_info": {
   "codemirror_mode": {
    "name": "ipython",
    "version": 3
   },
   "file_extension": ".py",
   "mimetype": "text/x-python",
   "name": "python",
   "nbconvert_exporter": "python",
   "pygments_lexer": "ipython3",
   "version": "3.6.3"
  }
 },
 "nbformat": 4,
 "nbformat_minor": 2
}
