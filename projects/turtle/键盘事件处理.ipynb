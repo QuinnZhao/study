{
 "cells": [
  {
   "cell_type": "markdown",
   "metadata": {},
   "source": [
    "键盘事件处理"
   ]
  },
  {
   "cell_type": "code",
   "execution_count": 3,
   "metadata": {},
   "outputs": [],
   "source": [
    "from turtle import *\n",
    "\n",
    "title('键盘事件处理')\n",
    "\n",
    "def _up():\n",
    "    setheading(90)\n",
    "    forward(100)\n",
    "\n",
    "def _down():\n",
    "    setheading(270)\n",
    "    forward(100)\n",
    "    \n",
    "def _left():\n",
    "    setheading(180)\n",
    "    forward(100)\n",
    "    \n",
    "def _right():\n",
    "    setheading(0)\n",
    "    forward(100)\n",
    "    \n",
    "listen()\n",
    "\n",
    "onkey(_up, 'Up')\n",
    "onkey(_down, 'Down')\n",
    "onkey(_left, 'Left')\n",
    "onkey(_right, 'Right')\n",
    "\n",
    "mainloop()"
   ]
  },
  {
   "cell_type": "code",
   "execution_count": 13,
   "metadata": {},
   "outputs": [],
   "source": [
    "from turtle import *\n",
    "\n",
    "title('按压空格键变色')\n",
    "\n",
    "def blue_screen():\n",
    "    bgcolor(0.7, 1.0, 1.0)\n",
    "    \n",
    "def white_screen():\n",
    "    bgcolor(1.0, 1.0, 1.0)\n",
    "    \n",
    "listen()\n",
    "\n",
    "onkeypress(blue_screen, 'space')\n",
    "onkey(white_screen, 'space')\n",
    "\n",
    "mainloop()"
   ]
  },
  {
   "cell_type": "markdown",
   "metadata": {},
   "source": [
    "## "
   ]
  }
 ],
 "metadata": {
  "kernelspec": {
   "display_name": "Python 3",
   "language": "python",
   "name": "python3"
  },
  "language_info": {
   "codemirror_mode": {
    "name": "ipython",
    "version": 3
   },
   "file_extension": ".py",
   "mimetype": "text/x-python",
   "name": "python",
   "nbconvert_exporter": "python",
   "pygments_lexer": "ipython3",
   "version": "3.6.3"
  }
 },
 "nbformat": 4,
 "nbformat_minor": 2
}
