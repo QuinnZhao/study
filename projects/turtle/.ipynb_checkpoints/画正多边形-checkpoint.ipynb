{
 "cells": [
  {
   "cell_type": "markdown",
   "metadata": {},
   "source": [
    "画正多边形及其外接圆"
   ]
  },
  {
   "cell_type": "code",
   "execution_count": null,
   "metadata": {},
   "outputs": [],
   "source": [
    "import turtle, time\n",
    "\n",
    "turtle.speed('fastest')\n",
    "turtle.title('画正多边形')\n",
    "\n",
    "for i in range(3, 13):\n",
    "    turtle.reset()\n",
    "    turtle.circle(100, steps=i)\n",
    "    turtle.write('正{}边形'.format(i))\n",
    "    time.sleep(2)\n",
    "turtle.write('Done')\n",
    "turtle.mainloop()"
   ]
  },
  {
   "cell_type": "code",
   "execution_count": null,
   "metadata": {},
   "outputs": [],
   "source": [
    "import turtle, time\n",
    "\n",
    "turtle.speed('fastest')\n",
    "turtle.title('画圆和内切正多边形')\n",
    "\n",
    "for i in range(3, 13):\n",
    "    turtle.reset()\n",
    "    turtle.pencolor('black')\n",
    "    turtle.circle(100)\n",
    "    turtle.pencolor('red')\n",
    "    turtle.circle(100, steps=i)\n",
    "    turtle.write('圆内切正{}边形'.format(i))\n",
    "    time.sleep(2)\n",
    "turtle.write('Done')\n",
    "turtle.mainloop()"
   ]
  }
 ],
 "metadata": {
  "kernelspec": {
   "display_name": "Python 3",
   "language": "python",
   "name": "python3"
  },
  "language_info": {
   "codemirror_mode": {
    "name": "ipython",
    "version": 3
   },
   "file_extension": ".py",
   "mimetype": "text/x-python",
   "name": "python",
   "nbconvert_exporter": "python",
   "pygments_lexer": "ipython3",
   "version": "3.6.3"
  }
 },
 "nbformat": 4,
 "nbformat_minor": 2
}
