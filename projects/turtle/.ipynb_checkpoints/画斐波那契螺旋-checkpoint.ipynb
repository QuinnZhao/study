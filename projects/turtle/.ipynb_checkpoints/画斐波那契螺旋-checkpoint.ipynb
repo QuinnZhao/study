{
 "cells": [
  {
   "cell_type": "code",
   "execution_count": 2,
   "metadata": {},
   "outputs": [],
   "source": [
    "import turtle\n",
    "from random import randint"
   ]
  },
  {
   "cell_type": "code",
   "execution_count": 3,
   "metadata": {},
   "outputs": [],
   "source": [
    "# 生成器生成斐波那契数列\n",
    "def fib(max):\n",
    "    n, a, b = 0, 1, 1\n",
    "    while n < max:\n",
    "        yield b\n",
    "        a, b = b, a + b\n",
    "        n +=1"
   ]
  },
  {
   "cell_type": "code",
   "execution_count": 4,
   "metadata": {},
   "outputs": [],
   "source": [
    "def draw(n, color='red', scale=5, origin_x=0, origin_y=0):\n",
    "    # n: 斐波那契数列序数\n",
    "    turtle.up()\n",
    "    turtle.goto(origin_x, origin_y)\n",
    "    turtle.color(color)\n",
    "    turtle.down()\n",
    "    for radius in fib(n):\n",
    "        turtle.circle(radius * scale, 90)"
   ]
  },
  {
   "cell_type": "code",
   "execution_count": 5,
   "metadata": {},
   "outputs": [],
   "source": [
    "turtle.reset()\n",
    "turtle.title('斐波那契螺旋')\n",
    "turtle.color('red')\n",
    "turtle.screensize(2000, 2000)"
   ]
  },
  {
   "cell_type": "code",
   "execution_count": 7,
   "metadata": {},
   "outputs": [],
   "source": [
    "# 绘制双螺旋\n",
    "for i in range(20):\n",
    "    draw(10)\n",
    "turtle.hideturtle()\n",
    "turtle.mainloop()"
   ]
  },
  {
   "cell_type": "code",
   "execution_count": 14,
   "metadata": {},
   "outputs": [],
   "source": [
    "# 绘制单螺旋\n",
    "for i in range(20):\n",
    "    draw(4, scale=20)\n",
    "turtle.hideturtle()\n",
    "turtle.done()"
   ]
  },
  {
   "cell_type": "code",
   "execution_count": 16,
   "metadata": {},
   "outputs": [],
   "source": [
    "# 绘制4螺旋\n",
    "for i in range(20):\n",
    "    draw(5, scale=10)\n",
    "turtle.hideturtle()\n",
    "turtle.done()"
   ]
  },
  {
   "cell_type": "code",
   "execution_count": 18,
   "metadata": {},
   "outputs": [],
   "source": [
    "# 绘制双螺旋\n",
    "for i in range(20):\n",
    "    draw(6, scale=10)\n",
    "turtle.hideturtle()\n",
    "turtle.done()"
   ]
  },
  {
   "cell_type": "code",
   "execution_count": 20,
   "metadata": {},
   "outputs": [],
   "source": [
    "# 绘制4螺旋\n",
    "for i in range(20):\n",
    "    draw(7, scale=10)\n",
    "turtle.hideturtle()\n",
    "turtle.done()"
   ]
  },
  {
   "cell_type": "code",
   "execution_count": 24,
   "metadata": {},
   "outputs": [],
   "source": [
    "# 绘制单螺旋\n",
    "for i in range(4):\n",
    "    draw(8, scale=6)\n",
    "turtle.hideturtle()\n",
    "turtle.done()"
   ]
  },
  {
   "cell_type": "code",
   "execution_count": 27,
   "metadata": {},
   "outputs": [],
   "source": [
    "# 绘制4螺旋\n",
    "for i in range(8):\n",
    "    draw(9, scale=4)\n",
    "turtle.hideturtle()\n",
    "turtle.done()"
   ]
  },
  {
   "cell_type": "code",
   "execution_count": 30,
   "metadata": {},
   "outputs": [],
   "source": [
    "# 绘制4螺旋\n",
    "for i in range(8):\n",
    "    draw(11, scale=1)\n",
    "turtle.hideturtle()\n",
    "turtle.done()"
   ]
  },
  {
   "cell_type": "code",
   "execution_count": 32,
   "metadata": {},
   "outputs": [],
   "source": [
    "# 绘制单螺旋\n",
    "for i in range(20):\n",
    "    draw(12, scale=0.8)\n",
    "turtle.hideturtle()\n",
    "turtle.done()"
   ]
  },
  {
   "cell_type": "markdown",
   "metadata": {},
   "source": [
    "显然，不重复螺旋的数目，从n=4开始，按照（单螺旋，4螺旋，双螺旋，4螺旋）的规律分布，周期为4，而且n为基数时，不重复螺旋的数目总是4，n为4的倍数时，不重复螺旋的数目总是1，其他偶数情况下，不重复螺旋数目总数2。"
   ]
  },
  {
   "cell_type": "code",
   "execution_count": 35,
   "metadata": {},
   "outputs": [],
   "source": [
    "# 绘制4螺旋\n",
    "for i in range(8):\n",
    "    draw(13, scale=0.5)\n",
    "turtle.hideturtle()\n",
    "turtle.done()"
   ]
  },
  {
   "cell_type": "code",
   "execution_count": 37,
   "metadata": {},
   "outputs": [],
   "source": [
    "turtle.fillcolor('yellow')\n",
    "turtle.begin_fill()\n",
    "for i in range(8):\n",
    "    draw(13, scale=0.5)\n",
    "turtle.end_fill()\n",
    "turtle.hideturtle()\n",
    "turtle.done()"
   ]
  },
  {
   "cell_type": "code",
   "execution_count": 42,
   "metadata": {},
   "outputs": [],
   "source": [
    "turtle.speed('fastest') # 0, fastest; 10, fast; 6, normal; 3, slow; 1, slowest, speed(0) == speed('fastest')\n",
    "turtle.fillcolor('yellow')\n",
    "turtle.begin_fill()\n",
    "for i in range(8):\n",
    "    draw(13, scale=0.5)\n",
    "turtle.end_fill()\n",
    "turtle.hideturtle()\n",
    "turtle.done()"
   ]
  },
  {
   "cell_type": "code",
   "execution_count": 8,
   "metadata": {},
   "outputs": [],
   "source": [
    "turtle.Turtle().screen.delay(0) # 绘图速度同turtle.speed(0)\n",
    "turtle.fillcolor('yellow')\n",
    "turtle.begin_fill()\n",
    "for i in range(8):\n",
    "    draw(13, scale=0.5)\n",
    "turtle.end_fill()\n",
    "turtle.hideturtle()\n",
    "turtle.done()"
   ]
  },
  {
   "cell_type": "code",
   "execution_count": null,
   "metadata": {},
   "outputs": [],
   "source": []
  }
 ],
 "metadata": {
  "kernelspec": {
   "display_name": "Python 3",
   "language": "python",
   "name": "python3"
  },
  "language_info": {
   "codemirror_mode": {
    "name": "ipython",
    "version": 3
   },
   "file_extension": ".py",
   "mimetype": "text/x-python",
   "name": "python",
   "nbconvert_exporter": "python",
   "pygments_lexer": "ipython3",
   "version": "3.6.3"
  }
 },
 "nbformat": 4,
 "nbformat_minor": 2
}
