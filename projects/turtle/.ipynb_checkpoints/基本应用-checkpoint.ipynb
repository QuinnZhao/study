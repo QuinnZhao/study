{
 "cells": [
  {
   "cell_type": "markdown",
   "metadata": {},
   "source": [
    "turtle模块基本应用"
   ]
  },
  {
   "cell_type": "code",
   "execution_count": null,
   "metadata": {},
   "outputs": [],
   "source": [
    "from turtle import *\n",
    "\n",
    "forward(100)\n",
    "mainloop()    # 必须调用的函数，否则会出现关不掉，或者在终端方式运行时看不见"
   ]
  },
  {
   "cell_type": "code",
   "execution_count": null,
   "metadata": {},
   "outputs": [],
   "source": [
    "from turtle import forward, left, mainloop\n",
    "\n",
    "# 画边长为100的正方形\n",
    "for i in range(4):\n",
    "    forward(100)\n",
    "    left(90)\n",
    "mainloop()"
   ]
  },
  {
   "cell_type": "code",
   "execution_count": 1,
   "metadata": {},
   "outputs": [],
   "source": [
    "from turtle import mainloop, circle, speed\n",
    "\n",
    "# 画半径为100的圆\n",
    "speed('fastest')\n",
    "circle(100)\n",
    "mainloop()"
   ]
  },
  {
   "cell_type": "code",
   "execution_count": 3,
   "metadata": {},
   "outputs": [],
   "source": [
    "from turtle import *\n",
    "\n",
    "speed(0)\n",
    "# 画6个圆，构成一朵简单的花\n",
    "for i in range(6):\n",
    "    circle(100)\n",
    "    left(60)\n",
    "    \n",
    "mainloop()"
   ]
  },
  {
   "cell_type": "code",
   "execution_count": null,
   "metadata": {},
   "outputs": [],
   "source": [
    "from turtle import *\n",
    "from random import randint\n",
    "\n",
    "speed(0)\n",
    "# 随机位置和颜色画6个圆组成的花\n",
    "for i in range(10):\n",
    "    up()\n",
    "    goto(randint(-400, 400), randint(-400, 400))\n",
    "    down()\n",
    "    pencolor(randint(0,30)/100.0, \n",
    "            randint(50, 100)/100.0,\n",
    "            randint(0,30)/100.0)\n",
    "    circle_size = randint(10,40)\n",
    "    pensize(randint(1,5))\n",
    "    for j in range(6):\n",
    "        circle(circle_size)\n",
    "        left(60)\n",
    "\n",
    "mainloop()"
   ]
  },
  {
   "cell_type": "code",
   "execution_count": null,
   "metadata": {},
   "outputs": [],
   "source": [
    "from turtle import *\n",
    "\n",
    "# 画一座小房子\n",
    "speed(0)\n",
    "goto (500, 0)\n",
    "goto (500, 400)\n",
    "goto (50, 400)\n",
    "goto (0, 300)\n",
    "goto (0, 0)\n",
    "up()\n",
    "goto (50, 400)\n",
    "down()\n",
    "goto (100, 300)\n",
    "goto (100, 0)\n",
    "up()\n",
    "goto (0, 300)\n",
    "down()\n",
    "goto (100, 300)\n",
    "goto (500, 300)\n",
    "screensize(2000,2000)\n",
    "    \n",
    "mainloop()"
   ]
  }
 ],
 "metadata": {
  "kernelspec": {
   "display_name": "Python 3",
   "language": "python",
   "name": "python3"
  },
  "language_info": {
   "codemirror_mode": {
    "name": "ipython",
    "version": 3
   },
   "file_extension": ".py",
   "mimetype": "text/x-python",
   "name": "python",
   "nbconvert_exporter": "python",
   "pygments_lexer": "ipython3",
   "version": "3.6.3"
  }
 },
 "nbformat": 4,
 "nbformat_minor": 2
}
