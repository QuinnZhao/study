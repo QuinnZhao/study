{
 "cells": [
  {
   "cell_type": "markdown",
   "metadata": {},
   "source": [
    "画螺旋"
   ]
  },
  {
   "cell_type": "code",
   "execution_count": 1,
   "metadata": {},
   "outputs": [],
   "source": [
    "from turtle import *\n",
    "\n",
    "# 4旋臂\n",
    "speed(0)   # 'fastest'\n",
    "for i in range(200):\n",
    "    forward(i)\n",
    "    left(91)\n",
    "    \n",
    "mainloop()"
   ]
  },
  {
   "cell_type": "code",
   "execution_count": 3,
   "metadata": {},
   "outputs": [],
   "source": [
    "from turtle import *\n",
    "\n",
    "# 正方形螺旋\n",
    "speed(0)  # 'fastest'\n",
    "for i in range(200):\n",
    "    forward(i)\n",
    "    left(90)\n",
    "    \n",
    "mainloop()"
   ]
  },
  {
   "cell_type": "code",
   "execution_count": 5,
   "metadata": {},
   "outputs": [],
   "source": [
    "from turtle import *\n",
    "\n",
    "# 6旋臂\n",
    "speed(0)\n",
    "for i in range(200):\n",
    "    forward(i)\n",
    "    left(61)\n",
    "    \n",
    "mainloop()"
   ]
  },
  {
   "cell_type": "code",
   "execution_count": 7,
   "metadata": {},
   "outputs": [],
   "source": [
    "from turtle import *\n",
    "\n",
    "# 圆螺旋\n",
    "speed(0)\n",
    "for i in range(1000):\n",
    "    forward(i/100)\n",
    "    left(3)\n",
    "    \n",
    "mainloop()"
   ]
  },
  {
   "cell_type": "code",
   "execution_count": 9,
   "metadata": {},
   "outputs": [],
   "source": [
    "from turtle import *\n",
    "\n",
    "# 彩色正6边形螺旋\n",
    "speed(0)\n",
    "colors = ['red', 'purple', 'blue', 'green', 'orange']\n",
    "for i in range(150):\n",
    "    pencolor(colors[i % 5])\n",
    "    width(i/10+1)\n",
    "    forward(i)\n",
    "    left(59)\n",
    "    \n",
    "mainloop()"
   ]
  },
  {
   "cell_type": "code",
   "execution_count": 11,
   "metadata": {},
   "outputs": [],
   "source": [
    "from turtle import *\n",
    "# 彩色正6边形螺旋，6旋臂\n",
    "speed(0)\n",
    "colors = ['red', 'purple', 'blue', 'green', 'yellow','orange']\n",
    "for i in range(360):\n",
    "    pencolor(colors[i % 6])\n",
    "    width(i/100+1)\n",
    "    forward(i)\n",
    "    left(59)\n",
    "    \n",
    "mainloop()"
   ]
  },
  {
   "cell_type": "code",
   "execution_count": 13,
   "metadata": {},
   "outputs": [],
   "source": [
    "from turtle import *\n",
    "\n",
    "speed(0)\n",
    "up()\n",
    "for i in range(30, -1, -1):\n",
    "    stamp()\n",
    "    left(i)\n",
    "    forward(20)\n",
    "    \n",
    "mainloop()"
   ]
  },
  {
   "cell_type": "code",
   "execution_count": null,
   "metadata": {},
   "outputs": [],
   "source": [
    "from turtle import *\n",
    "\n",
    "speed(0)\n",
    "for i in range(500):\n",
    "    forward(i)\n",
    "    left(91)\n",
    "    \n",
    "mainloop()"
   ]
  },
  {
   "cell_type": "code",
   "execution_count": null,
   "metadata": {},
   "outputs": [],
   "source": [
    "from turtle import *\n",
    "\n",
    "speed(0)\n",
    "\n",
    "title('小螺旋')\n",
    "\n",
    "up()\n",
    "\n",
    "while True:\n",
    "    goto(0, 0)\n",
    "    step = numinput('输入步长', '请输入步长')\n",
    "    if step == 0:\n",
    "        break\n",
    "    for i in range(30, -1, -1):\n",
    "        dot()\n",
    "        left(i)\n",
    "        # forward(20)\n",
    "        forward(step)\n",
    "    \n",
    "mainloop()"
   ]
  }
 ],
 "metadata": {
  "kernelspec": {
   "display_name": "Python 3",
   "language": "python",
   "name": "python3"
  },
  "language_info": {
   "codemirror_mode": {
    "name": "ipython",
    "version": 3
   },
   "file_extension": ".py",
   "mimetype": "text/x-python",
   "name": "python",
   "nbconvert_exporter": "python",
   "pygments_lexer": "ipython3",
   "version": "3.6.3"
  }
 },
 "nbformat": 4,
 "nbformat_minor": 2
}
