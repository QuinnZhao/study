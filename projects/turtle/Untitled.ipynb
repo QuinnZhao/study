{
 "cells": [
  {
   "cell_type": "code",
   "execution_count": 2,
   "metadata": {},
   "outputs": [],
   "source": [
    "from turtle import *\n",
    "\n",
    "forward(100)\n",
    "mainloop()    # 必须调用的函数，否则会出现关不掉，或者在终端方式运行时看不见"
   ]
  },
  {
   "cell_type": "code",
   "execution_count": 6,
   "metadata": {},
   "outputs": [],
   "source": [
    "from turtle import forward, left, mainloop\n",
    "\n",
    "# 画边长为100的正方形\n",
    "for i in range(4):\n",
    "    forward(100)\n",
    "    left(90)\n",
    "mainloop()"
   ]
  },
  {
   "cell_type": "code",
   "execution_count": null,
   "metadata": {},
   "outputs": [],
   "source": [
    "from turtle import mainloop, circle\n",
    "\n",
    "circle(100)\n",
    "mainloop()"
   ]
  },
  {
   "cell_type": "code",
   "execution_count": 2,
   "metadata": {},
   "outputs": [],
   "source": [
    "from turtle import *\n",
    "color('red', 'yellow')\n",
    "hideturtle()\n",
    "begin_fill()\n",
    "while True:\n",
    "    forward(100)\n",
    "    left(170)\n",
    "    if abs(position()) < 1:\n",
    "        break\n",
    "end_fill()\n",
    "mainloop()"
   ]
  },
  {
   "cell_type": "code",
   "execution_count": 2,
   "metadata": {},
   "outputs": [],
   "source": [
    "from turtle import *\n",
    "\n",
    "# 4旋臂\n",
    "for i in range(200):\n",
    "    forward(i)\n",
    "    left(91)\n",
    "    \n",
    "mainloop()"
   ]
  },
  {
   "cell_type": "code",
   "execution_count": 1,
   "metadata": {},
   "outputs": [],
   "source": [
    "from turtle import *\n",
    "\n",
    "for i in range(200):\n",
    "    forward(i)\n",
    "    left(90)\n",
    "    \n",
    "mainloop()"
   ]
  },
  {
   "cell_type": "code",
   "execution_count": 5,
   "metadata": {},
   "outputs": [],
   "source": [
    "from turtle import *\n",
    "\n",
    "# 6旋臂\n",
    "for i in range(200):\n",
    "    forward(i)\n",
    "    left(61)\n",
    "    \n",
    "mainloop()"
   ]
  },
  {
   "cell_type": "code",
   "execution_count": 11,
   "metadata": {},
   "outputs": [],
   "source": [
    "from turtle import *\n",
    "\n",
    "# 螺旋\n",
    "for i in range(1000):\n",
    "    forward(i/100)\n",
    "    left(3)\n",
    "    \n",
    "mainloop()"
   ]
  },
  {
   "cell_type": "code",
   "execution_count": 15,
   "metadata": {},
   "outputs": [],
   "source": [
    "from turtle import *\n",
    "\n",
    "colors = ['red', 'purple', 'blue', 'green', 'orange']\n",
    "for i in range(150):\n",
    "    pencolor(colors[i % 5])\n",
    "    width(i/10+1)\n",
    "    forward(i)\n",
    "    left(59)\n",
    "    \n",
    "mainloop()"
   ]
  },
  {
   "cell_type": "code",
   "execution_count": 17,
   "metadata": {},
   "outputs": [],
   "source": [
    "from turtle import *\n",
    "\n",
    "for i in range(6):\n",
    "    circle(100)\n",
    "    left(60)\n",
    "    \n",
    "mainloop()"
   ]
  },
  {
   "cell_type": "code",
   "execution_count": 19,
   "metadata": {},
   "outputs": [],
   "source": [
    "from turtle import *\n",
    "\n",
    "\n",
    "for angle in range(0, 360, 20):\n",
    "    setheading(angle)\n",
    "    forward(100)\n",
    "    write(str(angle) + '*')\n",
    "    backward(100)\n",
    "    \n",
    "mainloop()"
   ]
  },
  {
   "cell_type": "code",
   "execution_count": 21,
   "metadata": {},
   "outputs": [],
   "source": [
    "from turtle import *\n",
    "\n",
    "goto (500, 0)\n",
    "goto (500, 400)\n",
    "goto (50, 400)\n",
    "goto (0, 300)\n",
    "goto (0, 0)\n",
    "up()\n",
    "goto (50, 400)\n",
    "down()\n",
    "goto (100, 300)\n",
    "goto (100, 0)\n",
    "up()\n",
    "goto (0, 300)\n",
    "down()\n",
    "goto (100, 300)\n",
    "goto (500, 300)\n",
    "screensize(2000,2000)\n",
    "    \n",
    "mainloop()"
   ]
  },
  {
   "cell_type": "code",
   "execution_count": 23,
   "metadata": {},
   "outputs": [],
   "source": [
    "from turtle import *\n",
    "\n",
    "for i in range(500):\n",
    "    forward(i)\n",
    "    left(91)\n",
    "    \n",
    "mainloop()"
   ]
  },
  {
   "cell_type": "code",
   "execution_count": 26,
   "metadata": {},
   "outputs": [],
   "source": [
    "from turtle import *\n",
    "\n",
    "colors = ['red', 'purple', 'blue', 'green', 'yellow','orange']\n",
    "for i in range(360):\n",
    "    pencolor(colors[i % 6])\n",
    "    width(i/100+1)\n",
    "    forward(i)\n",
    "    left(59)\n",
    "    \n",
    "mainloop()"
   ]
  },
  {
   "cell_type": "code",
   "execution_count": 30,
   "metadata": {},
   "outputs": [],
   "source": [
    "from turtle import *\n",
    "from random import randint\n",
    "\n",
    "for i in range(10):\n",
    "    up()\n",
    "    goto(randint(-400, 400), randint(-400, 400))\n",
    "    down()\n",
    "    pencolor(randint(0,30)/100.0, \n",
    "            randint(50, 100)/100.0,\n",
    "            randint(0,30)/100.0)\n",
    "    circle_size = randint(10,40)\n",
    "    pensize(randint(1,5))\n",
    "    for j in range(6):\n",
    "        circle(circle_size)\n",
    "        left(60)\n",
    "\n",
    "mainloop()"
   ]
  },
  {
   "cell_type": "code",
   "execution_count": 32,
   "metadata": {},
   "outputs": [],
   "source": [
    "from turtle import *\n",
    "up()\n",
    "for i in range(30, -1, -1):\n",
    "    stamp()\n",
    "    left(i)\n",
    "    forward(20)\n",
    "    \n",
    "mainloop()"
   ]
  },
  {
   "cell_type": "code",
   "execution_count": 3,
   "metadata": {},
   "outputs": [],
   "source": [
    "from turtle import *\n",
    "\n",
    "def _up():\n",
    "    setheading(90)\n",
    "    forward(100)\n",
    "\n",
    "def _down():\n",
    "    setheading(270)\n",
    "    forward(100)\n",
    "    \n",
    "def _left():\n",
    "    setheading(180)\n",
    "    forward(100)\n",
    "    \n",
    "def _right():\n",
    "    setheading(0)\n",
    "    forward(100)\n",
    "    \n",
    "listen()\n",
    "\n",
    "onkey(_up, 'Up')\n",
    "onkey(_down, 'Down')\n",
    "onkey(_left, 'Left')\n",
    "onkey(_right, 'Right')\n",
    "\n",
    "mainloop()"
   ]
  },
  {
   "cell_type": "code",
   "execution_count": 13,
   "metadata": {},
   "outputs": [],
   "source": [
    "from turtle import *\n",
    "\n",
    "title('按压空格键变色')\n",
    "\n",
    "def blue_screen():\n",
    "    bgcolor(0.7, 1.0, 1.0)\n",
    "    \n",
    "def white_screen():\n",
    "    bgcolor(1.0, 1.0, 1.0)\n",
    "    \n",
    "listen()\n",
    "\n",
    "onkeypress(blue_screen, 'space')\n",
    "onkey(white_screen, 'space')\n",
    "\n",
    "mainloop()"
   ]
  },
  {
   "cell_type": "code",
   "execution_count": null,
   "metadata": {},
   "outputs": [],
   "source": [
    "from turtle import *\n",
    "\n",
    "title('小螺旋')\n",
    "\n",
    "up()\n",
    "\n",
    "while True:\n",
    "    goto(0, 0)\n",
    "    step = numinput('输入步长', '请输入步长')\n",
    "    if step == 0:\n",
    "        break\n",
    "    for i in range(30, -1, -1):\n",
    "        dot()\n",
    "        left(i)\n",
    "        # forward(20)\n",
    "        forward(step)\n",
    "    \n",
    "mainloop()"
   ]
  },
  {
   "cell_type": "markdown",
   "metadata": {},
   "source": [
    "## "
   ]
  },
  {
   "cell_type": "code",
   "execution_count": null,
   "metadata": {},
   "outputs": [],
   "source": []
  }
 ],
 "metadata": {
  "kernelspec": {
   "display_name": "Python 3",
   "language": "python",
   "name": "python3"
  },
  "language_info": {
   "codemirror_mode": {
    "name": "ipython",
    "version": 3
   },
   "file_extension": ".py",
   "mimetype": "text/x-python",
   "name": "python",
   "nbconvert_exporter": "python",
   "pygments_lexer": "ipython3",
   "version": "3.6.3"
  }
 },
 "nbformat": 4,
 "nbformat_minor": 2
}
