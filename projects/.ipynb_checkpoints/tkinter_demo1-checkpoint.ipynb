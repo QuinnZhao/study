{
 "cells": [
  {
   "cell_type": "markdown",
   "metadata": {},
   "source": [
    "#### 以下是一个基于tkinter开发GUI的基本程序架构，将生成如下图所示的界面"
   ]
  },
  {
   "cell_type": "code",
   "execution_count": 41,
   "metadata": {},
   "outputs": [],
   "source": [
    "from tkinter import *\n",
    "from tkinter.ttk import *   # ttk的widgets会覆盖tk中的定义的7个widgets\n",
    "\n",
    "class Application(Frame):\n",
    "    \n",
    "    def __init__(self, master=None):\n",
    "        super().__init__(master)\n",
    "        self.pack()\n",
    "        self.create_widgets()\n",
    "        \n",
    "    def create_widgets(self):\n",
    "        pass\n",
    "  \n",
    "        \n",
    "if __name__ == '__main__':\n",
    "    root = Tk()\n",
    "    app = Application(master=root)\n",
    "    app.mainloop()"
   ]
  },
  {
   "cell_type": "markdown",
   "metadata": {},
   "source": [
    "![](基本界面.png)"
   ]
  },
  {
   "cell_type": "code",
   "execution_count": 34,
   "metadata": {},
   "outputs": [
    {
     "name": "stdout",
     "output_type": "stream",
     "text": [
      "大家好\n"
     ]
    }
   ],
   "source": [
    "import tkinter as tk\n",
    "\n",
    "class Application(tk.Frame):\n",
    "    \n",
    "    def __init__(self, master=None):\n",
    "        super().__init__(master)\n",
    "        self.pack()\n",
    "        self.master = master\n",
    "        self.create_widgets()\n",
    "        \n",
    "    def create_widgets(self):\n",
    "        self.hi_button = tk.Button(self)\n",
    "        self.hi_button['text'] = '你好！\\n请点我'\n",
    "        self.hi_button['command'] = self.say_hi\n",
    "        self.hi_button.pack(side='top')\n",
    "        \n",
    "        self.quit_button = tk.Button(self, text='退出', fg='red',\n",
    "                                    command = self.master.destroy)\n",
    "        self.quit_button.pack(side='bottom')\n",
    "        \n",
    "    def say_hi(self):\n",
    "        print('大家好')\n",
    "        \n",
    "if __name__ == '__main__':\n",
    "    root = Tk()\n",
    "    app = Application(master=root)\n",
    "    app.mainloop()"
   ]
  },
  {
   "cell_type": "markdown",
   "metadata": {},
   "source": [
    "#### 运行界面：\n",
    "![interface](点我的界面.png)\n",
    "1. 点击“点我”按钮后，则会打印“大家好”\n",
    "2. 点击退出按钮后则会直接退出\n",
    "3. 以下是上一个程序的ttk版本，运行结果同上，不再赘述。"
   ]
  },
  {
   "cell_type": "code",
   "execution_count": 35,
   "metadata": {},
   "outputs": [
    {
     "name": "stdout",
     "output_type": "stream",
     "text": [
      "大家好\n"
     ]
    }
   ],
   "source": [
    "from tkinter import *\n",
    "from tkinter.ttk import *\n",
    "\n",
    "class Application(Frame):\n",
    "\n",
    "    def __init__(self, master=None):\n",
    "        super().__init__(master)\n",
    "        self.pack()\n",
    "        self.master = master\n",
    "        self.create_widgets()\n",
    "        \n",
    "    def create_widgets(self):\n",
    "        self.hi_button = Button(self)\n",
    "        self.hi_button['text'] = '你好！\\n请点我'\n",
    "        self.hi_button['command'] = self.say_hi\n",
    "        self.hi_button.pack(side='top')\n",
    "        \n",
    "        self.quit_button = Button(self, text='退出', \n",
    "                                    command=self.master.destroy)\n",
    "        self.quit_button.pack(side='bottom')\n",
    "        \n",
    "    def say_hi(self):\n",
    "        print('大家好')\n",
    "        \n",
    "if __name__ == '__main__':\n",
    "    root = Tk()\n",
    "    app = Application(master=root)\n",
    "    app.mainloop()"
   ]
  },
  {
   "cell_type": "code",
   "execution_count": 32,
   "metadata": {},
   "outputs": [],
   "source": [
    "from tkinter import *\n",
    "from tkinter.ttk import *\n",
    "\n",
    "class Application(Frame):\n",
    "    \n",
    "    def __init__(self, master=None):\n",
    "        super().__init__(master)\n",
    "        self.padding='3 3 12 12'\n",
    "        self.grid(column=0, row=0, sticky=(N, W, E, S))\n",
    "        self.columnconfigure(0, weight=1)\n",
    "        self.rowconfigure(0, weight=1)\n",
    "        self.create_widgets()\n",
    "        \n",
    "    def create_widgets(self):\n",
    "        self.feet = StringVar()\n",
    "        self.meters = StringVar()\n",
    "\n",
    "        feet_entry = Entry(self, width=7, textvariable=self.feet)\n",
    "        feet_entry.grid(column=2, row=1, sticky=(W, E))\n",
    "\n",
    "        Label(self, textvariable=self.meters).grid(column=2, row=2, sticky=(W, E))\n",
    "        Button(self, text=\"转换\", command=self.calculate).grid(column=3, row=3, sticky=W)\n",
    "\n",
    "        Label(self, text=\"英尺\").grid(column=3, row=1, sticky=W)\n",
    "        Label(self, text=\"等于\").grid(column=1, row=2, sticky=E)\n",
    "        Label(self, text=\"米\").grid(column=3, row=2, sticky=W)\n",
    "\n",
    "        for child in self.winfo_children(): child.grid_configure(padx=5, pady=5)\n",
    "\n",
    "        feet_entry.focus()\n",
    "        self.bind('<Return>', self.calculate)\n",
    "        \n",
    "\n",
    "    def calculate(self, *args):\n",
    "        try:\n",
    "            value = float(self.feet.get())\n",
    "            self.meters.set((0.3048 * value * 10000.0 + 0.5)/10000.0)\n",
    "        except ValueError:\n",
    "            pass\n",
    "\n",
    "if __name__ == \"__main__\":\n",
    "    root = Tk()\n",
    "    root.title(\"英尺到米的转换\")\n",
    "    root.geometry('300x100')\n",
    "    app = Application(master=root)\n",
    "    app.mainloop()"
   ]
  },
  {
   "cell_type": "markdown",
   "metadata": {},
   "source": [
    "#### “英尺到米的转换器”界面\n",
    "![interface1](转换器界面1.png)\n",
    "#### 当输入100到英尺前面的输入框（Entry），并点击“转换”按钮，则\n",
    "![interface2](转换器界面2.png)"
   ]
  },
  {
   "cell_type": "code",
   "execution_count": 48,
   "metadata": {},
   "outputs": [],
   "source": [
    "from tkinter import *\n",
    "from tkinter.ttk import *   # ttk的widgets会覆盖tk中的定义的7个widgets\n",
    "\n",
    "class Application(Frame):\n",
    "    \n",
    "    def __init__(self, master=None):\n",
    "        super().__init__(master)\n",
    "        self.pack()\n",
    "        self.create_widgets()\n",
    "        \n",
    "    def create_widgets(self):\n",
    "        l =Label(self, text=\"开始...\\n请移动鼠标并点击左键，或者按住鼠标右键并移动\\n看看会出现什么有趣的现象\")\n",
    "        l.grid()\n",
    "        l.bind('<Enter>', lambda e: l.configure(text='鼠标移入'))\n",
    "        l.bind('<Leave>', lambda e: l.configure(text='鼠标移出'))\n",
    "        l.bind('<1>', lambda e: l.configure(text='单击鼠标左键'))\n",
    "        l.bind('<Double-1>', lambda e: l.configure(text='双击鼠标左键'))\n",
    "        l.bind('<B3-Motion>', lambda e: l.configure(text='鼠标右键拖到 to %d,%d' % (e.x, e.y)))\n",
    "\n",
    "        \n",
    "if __name__ == '__main__':\n",
    "    root = Tk()\n",
    "    app = Application(master=root)\n",
    "    app.mainloop()"
   ]
  },
  {
   "cell_type": "markdown",
   "metadata": {},
   "source": [
    "#### 上述程序是一个检测鼠标的程序，运用了bind方法进行鼠标事件绑定\n",
    " 1. <Enter> 绑定鼠标进入界面事件\n",
    " 2. <Leave> 绑定鼠标离开事件\n",
    " 3. <1> 绑定鼠标左键单次点击事件\n",
    " 4. <Double-1> 绑定鼠标左键双击事件\n",
    " 5. <B3-Motion> 绑定鼠标右键拖动事件\n",
    " 该程序的运行开始界面见下图\n",
    "![](鼠标事件检测开始界面.png)\n",
    "    \n",
    "#### 当鼠标移入后，界面会显示\n",
    "![](鼠标事件检测移入.png)\n",
    "#### 当鼠标移出，界面会显示\n",
    "![](鼠标事件检测移出.png)\n",
    "#### 当鼠标左键单击，界面会显示\n",
    "![](鼠标事件检测左键单击.png)\n",
    "#### 当鼠标左键双击，界面会显示\n",
    "![](鼠标事件检测左键双击.png)\n",
    "#### 当鼠标右键按住鼠标右键并移动会显示移动到的屏幕坐标\n",
    "![](鼠标事件检测右键拖动.png)"
   ]
  },
  {
   "cell_type": "code",
   "execution_count": 97,
   "metadata": {},
   "outputs": [],
   "source": [
    "from tkinter import *\n",
    "from tkinter.ttk import *   # ttk的widgets会覆盖tk中的定义的7个widgets\n",
    "\n",
    "class F1(Frame):\n",
    "    \n",
    "    def __init__(self, master=None):\n",
    "        super().__init__(master)\n",
    "        self.pack()\n",
    "        self.create_widgets()\n",
    "        \n",
    "    def create_widgets(self):\n",
    "        left = Label(self, text=\"left pane\")\n",
    "        left.pack()\n",
    "\n",
    "        #m =W2(self)\n",
    "        #self.add(m)\n",
    "\n",
    "        #bottom = Label(m2, text=\"bottom pane\")\n",
    "        #m2.add(bottom)\n",
    "        \n",
    "class W2(PanedWindow):\n",
    "    \n",
    "    def __init__(self, master=None):\n",
    "        super().__init__(master, orient=VERTICAL)\n",
    "        # self.pack(orient=VERTICAL)\n",
    "        self.create_widgets()\n",
    "        \n",
    "    def create_widgets(self):\n",
    "        top = Label(self, text=\"top pane\")\n",
    "        self.add(top)\n",
    "        bottom = Label(self, text=\"bottom pane\")\n",
    "        self.add(bottom)\n",
    "                \n",
    "\n",
    "        \n",
    "if __name__ == '__main__':\n",
    "    m1 = PanedWindow()\n",
    "    m1.pack(fill=BOTH, expand=1)\n",
    "    f = F1(master=m1)\n",
    "    m1.add(f)    \n",
    "    m2 = W2(m1)\n",
    "    m1.add(m2)\n",
    "    mainloop()"
   ]
  },
  {
   "cell_type": "code",
   "execution_count": 90,
   "metadata": {},
   "outputs": [],
   "source": [
    "from tkinter import *\n",
    "\n",
    "m1 = PanedWindow()\n",
    "m1.pack(fill=BOTH, expand=1)\n",
    "\n",
    "left = Label(m1, text=\"left pane\")\n",
    "m1.add(left)\n",
    "\n",
    "m2 = PanedWindow(m1, orient=VERTICAL)\n",
    "m1.add(m2)\n",
    "\n",
    "top = Label(m2, text=\"top pane\")\n",
    "m2.add(top)\n",
    "\n",
    "bottom = Label(m2, text=\"bottom pane\")\n",
    "m2.add(bottom)\n",
    "\n",
    "mainloop()"
   ]
  },
  {
   "cell_type": "code",
   "execution_count": null,
   "metadata": {},
   "outputs": [],
   "source": []
  }
 ],
 "metadata": {
  "kernelspec": {
   "display_name": "Python 3",
   "language": "python",
   "name": "python3"
  },
  "language_info": {
   "codemirror_mode": {
    "name": "ipython",
    "version": 3
   },
   "file_extension": ".py",
   "mimetype": "text/x-python",
   "name": "python",
   "nbconvert_exporter": "python",
   "pygments_lexer": "ipython3",
   "version": "3.6.3"
  }
 },
 "nbformat": 4,
 "nbformat_minor": 2
}
